{
 "cells": [
  {
   "cell_type": "code",
   "execution_count": 1,
   "id": "55d6cb3e",
   "metadata": {},
   "outputs": [
    {
     "name": "stdout",
     "output_type": "stream",
     "text": [
      "Battery Percentage 74\n",
      "Powerplug False\n",
      "Brightness of Screen 40\n",
      "CPU usage 63.9\n",
      "powersaver on\n"
     ]
    }
   ],
   "source": [
    "# powersaving notification\n",
    "\n",
    "import psutil\n",
    "import screen_brightness_control as sbc\n",
    "\n",
    "battery=psutil.sensors_battery().percent\n",
    "print(\"Battery Percentage\", battery)\n",
    "power=psutil.sensors_battery().power_plugged\n",
    "print(\"Powerplug\", power)\n",
    "brightness=sbc.get_brightness()\n",
    "print(\"Brightness of Screen\", brightness)\n",
    "\n",
    "if battery < 85 and power==False:\n",
    "    CPU= psutil.cpu_percent()\n",
    "    print(\"CPU usage\", CPU)\n",
    "    if CPU > 50 and brightness > 50:\n",
    "        print(\"not able to start power saver mode\")\n",
    "    else:\n",
    "        print(\"powersaver on\")\n",
    "\n",
    "elif power==True:\n",
    "    print(\"No need of power saving\")\n",
    "    \n",
    "else:\n",
    "    print(\"Everything fine now\")"
   ]
  },
  {
   "cell_type": "code",
   "execution_count": 38,
   "id": "aac6bc39",
   "metadata": {},
   "outputs": [],
   "source": [
    "# powersaving notification\n",
    "\n",
    "\n",
    "import plyer\n",
    "from plyer import notification\n",
    "import psutil\n",
    "import screen_brightness_control as sbc\n",
    "\n",
    "battery=psutil.sensors_battery().percent\n",
    "power=psutil.sensors_battery().power_plugged\n",
    "brightness=sbc.get_brightness()\n",
    "\n",
    "if battery < 75 and power==False:\n",
    "    CPU= psutil.cpu_percent()\n",
    "    if CPU > 50 or brightness > 50:\n",
    "        notification.notify(\n",
    "        title=\"POWER MODES\",\n",
    "        message=str(battery)+\" Battery\\n\"+str(CPU)+\" CPU_USAGE\\n\"+str(brightness)+\" BRIGHTNESS\\n\"+\"Not able to start power saver mode\")\n",
    "    else:\n",
    "        notification.notify(\n",
    "        title=\"POWER MODES\",\n",
    "        message=str(battery)+\" Battery\\n\"+str(CPU)+\" CPU_USAGE\\n\"+str(brightness)+\" BRIGHTNESS\\n\"+\"POWERSAVER ON\")\n",
    "\n",
    "elif power==True:\n",
    "    notification.notify(\n",
    "        title=\"POWER MODES\",\n",
    "        message=\"POWER PLUG CONNECTED\")\n",
    "\n",
    "    \n",
    "else:\n",
    "    print(\"Everything fine now\")"
   ]
  },
  {
   "cell_type": "code",
   "execution_count": null,
   "id": "18fb2e3f",
   "metadata": {},
   "outputs": [],
   "source": []
  },
  {
   "cell_type": "code",
   "execution_count": null,
   "id": "b63c3338",
   "metadata": {},
   "outputs": [],
   "source": []
  }
 ],
 "metadata": {
  "kernelspec": {
   "display_name": "Python 3 (ipykernel)",
   "language": "python",
   "name": "python3"
  },
  "language_info": {
   "codemirror_mode": {
    "name": "ipython",
    "version": 3
   },
   "file_extension": ".py",
   "mimetype": "text/x-python",
   "name": "python",
   "nbconvert_exporter": "python",
   "pygments_lexer": "ipython3",
   "version": "3.10.2"
  }
 },
 "nbformat": 4,
 "nbformat_minor": 5
}
