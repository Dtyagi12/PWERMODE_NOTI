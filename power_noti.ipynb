{
 "cells": [
  {
   "cell_type": "code",
   "execution_count": 38,
   "id": "aac6bc39",
   "metadata": {},
   "outputs": [],
   "source": [
    "# powersaving notification\n",
    "\n",
    "\n",
    "import plyer\n",
    "from plyer import notification\n",
    "import psutil\n",
    "import screen_brightness_control as sbc\n",
    "\n",
    "battery=psutil.sensors_battery().percent\n",
    "power=psutil.sensors_battery().power_plugged\n",
    "brightness=sbc.get_brightness()\n",
    "\n",
    "if battery < 75 and power==False:\n",
    "    CPU= psutil.cpu_percent()\n",
    "    if CPU > 50 or brightness > 50:\n",
    "        notification.notify(\n",
    "        title=\"POWER MODES\",\n",
    "        message=str(battery)+\" Battery\\n\"+str(CPU)+\" CPU_USAGE\\n\"+str(brightness)+\" BRIGHTNESS\\n\"+\"Not able to start power saver mode\")\n",
    "    else:\n",
    "        notification.notify(\n",
    "        title=\"POWER MODES\",\n",
    "        message=str(battery)+\" Battery\\n\"+str(CPU)+\" CPU_USAGE\\n\"+str(brightness)+\" BRIGHTNESS\\n\"+\"POWERSAVER ON\")\n",
    "\n",
    "elif power==True:\n",
    "    notification.notify(\n",
    "        title=\"POWER MODES\",\n",
    "        message=\"POWER PLUG CONNECTED\")\n",
    "\n",
    "    \n",
    "else:\n",
    "    print(\"Everything fine now\")"
   ]
  }
 ],
 "metadata": {
  "kernelspec": {
   "display_name": "Python 3 (ipykernel)",
   "language": "python",
   "name": "python3"
  },
  "language_info": {
   "codemirror_mode": {
    "name": "ipython",
    "version": 3
   },
   "file_extension": ".py",
   "mimetype": "text/x-python",
   "name": "python",
   "nbconvert_exporter": "python",
   "pygments_lexer": "ipython3",
   "version": "3.10.2"
  }
 },
 "nbformat": 4,
 "nbformat_minor": 5
}
